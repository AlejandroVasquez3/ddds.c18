{
  "nbformat": 4,
  "nbformat_minor": 0,
  "metadata": {
    "colab": {
      "provenance": [],
      "authorship_tag": "ABX9TyPuQm7nTPVHbYQPQxJr4W0N",
      "include_colab_link": true
    },
    "kernelspec": {
      "name": "python3",
      "display_name": "Python 3"
    },
    "language_info": {
      "name": "python"
    }
  },
  "cells": [
    {
      "cell_type": "markdown",
      "metadata": {
        "id": "view-in-github",
        "colab_type": "text"
      },
      "source": [
        "<a href=\"https://colab.research.google.com/github/AlejandroVasquez3/ddds.c18/blob/main/1a_Markdown_About_Me_Exercise_final.ipynb\" target=\"_parent\"><img src=\"https://colab.research.google.com/assets/colab-badge.svg\" alt=\"Open In Colab\"/></a>"
      ]
    },
    {
      "cell_type": "markdown",
      "source": [
        "#About Me"
      ],
      "metadata": {
        "id": "42f-ycoq9yJm"
      }
    },
    {
      "cell_type": "markdown",
      "source": [
        "## I am **Alejandro Vasquez**\n",
        "- Pronouns He/Him\n",
        "- I signed up for the Bootcamp to launch into a new career and maybe begin a counsulting bussiness\n",
        "- I would choose to be a Penguin with a human body\n"
      ],
      "metadata": {
        "id": "76lpLAPN-C48"
      }
    },
    {
      "cell_type": "markdown",
      "source": [
        "### If I had to delete all but 3 apps on my phone it would have to be.\n",
        "1. Apple Music\n",
        "1. YouTube\n",
        "1. Waze\n"
      ],
      "metadata": {
        "id": "uPI26iul_E_G"
      }
    },
    {
      "cell_type": "markdown",
      "source": [
        "### My Favorite Music Artist right now\n",
        "- It would have to be *Raveena*"
      ],
      "metadata": {
        "id": "AKi2UzzN_fGu"
      }
    },
    {
      "cell_type": "markdown",
      "source": [
        "### My Favorite Sport and Hobby\n",
        "1. My Favorite Sport is Tennis\n",
        "[Tennis Photo](https://media.npr.org/assets/img/2022/08/09/gettyimages-460481071-664b71a2f0a7b96e853d884a1a216345bbb740c3.jpg)\n",
        "1. My Favorite Hobby is Gardening\n",
        "![Gardening](https://i.guim.co.uk/img/media/ef96c1f2495b60ec83379962d4aec38bfb1ce039/0_187_5600_3363/master/5600.jpg?width=1200&height=900&quality=85&auto=format&fit=crop&s=a96e7cb435ac3a89558b8315d39c068d \"Gardening Photo\")"
      ],
      "metadata": {
        "id": "F1_ul7A9AAtr"
      }
    },
    {
      "cell_type": "markdown",
      "source": [
        "### My Pets\n",
        "Pet Name | Pet Type | Pet Age\n",
        "- | - | - |\n",
        "Trixie | Cat | 5 yrs\n",
        "Freddie | Cat | 5 yrs\n",
        "Lucas | Dog | 3 yrs"
      ],
      "metadata": {
        "id": "BGiONzdCBIWB"
      }
    },
    {
      "cell_type": "markdown",
      "source": [
        "![My Cats Freddie & Trixie](https://drive.google.com/file/d/1Gc3Z295wJYvWfaosYZKrNVc56NONPFWT \"My Cats\")"
      ],
      "metadata": {
        "id": "Uwm2YIYLFHZh"
      }
    },
    {
      "cell_type": "code",
      "source": [
        "%magic - brief"
      ],
      "metadata": {
        "id": "QXaov1sDCrWJ"
      },
      "execution_count": null,
      "outputs": []
    },
    {
      "cell_type": "code",
      "source": [],
      "metadata": {
        "id": "Ry_o8d7hIXI2"
      },
      "execution_count": null,
      "outputs": []
    }
  ]
}